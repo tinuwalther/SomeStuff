{
 "cells": [
  {
   "attachments": {},
   "cell_type": "markdown",
   "metadata": {},
   "source": [
    "## My first Polyglot Notebook\n",
    "\n",
    "In a Polyglot Notebook, you can define documentation and code in one file and you can execute the code.\n",
    "\n",
    "See also [Polyglot Notebooks in VS Code](https://code.visualstudio.com/docs/languages/polyglot)"
   ]
  },
  {
   "attachments": {},
   "cell_type": "markdown",
   "metadata": {},
   "source": [
    "### Polyglot programming \n",
    "\n",
    "Polyglot programming is the practice of using multiple programming languages to leverage the strength of each language for different tasks."
   ]
  },
  {
   "attachments": {},
   "cell_type": "markdown",
   "metadata": {},
   "source": [
    "### Next line is Mermaid\n",
    "Create a flowchart with code"
   ]
  },
  {
   "cell_type": "code",
   "execution_count": null,
   "metadata": {
    "dotnet_interactive": {
     "language": "mermaid"
    },
    "polyglot_notebook": {
     "kernelName": "mermaid"
    }
   },
   "outputs": [],
   "source": [
    "flowchart LR\n",
    "    Start --> Mermaid --> HTML --> PowerShell --> JavaScript --> C#--> Stop"
   ]
  },
  {
   "attachments": {},
   "cell_type": "markdown",
   "metadata": {},
   "source": [
    "### Next line is HTML-code\n",
    "Output a simple HTML frame"
   ]
  },
  {
   "cell_type": "code",
   "execution_count": null,
   "metadata": {
    "dotnet_interactive": {
     "language": "html"
    },
    "polyglot_notebook": {
     "kernelName": "html"
    }
   },
   "outputs": [],
   "source": [
    "<!DOCTYPE html>\n",
    "<html >\n",
    "    <head >\n",
    "    <meta charset=\"UTF-8\"  />\n",
    "    <meta name=\"author\" content=\"Martin Walther\"  />\n",
    "    </head>\n",
    "    <Body >\n",
    "        <h1>Polyglot Notebook in HTML</h1>\n",
    "        <p id=\"demo\"></p>\n",
    "        <script>\n",
    "            document.getElementById(\"demo\").innerHTML = 'This output is generated with html in a Polyglot Notebook';\n",
    "        </script>\n",
    "    </Body>\n",
    "</html>"
   ]
  },
  {
   "attachments": {},
   "cell_type": "markdown",
   "metadata": {},
   "source": [
    "### Next line is PowerShell-code\n",
    "Output the current Date/Time with PowerShell"
   ]
  },
  {
   "cell_type": "code",
   "execution_count": null,
   "metadata": {
    "dotnet_interactive": {
     "language": "pwsh"
    },
    "polyglot_notebook": {
     "kernelName": "pwsh"
    }
   },
   "outputs": [],
   "source": [
    "# PWSH\n",
    "$currentDateTime = Get-Date #-Format 'dddd MMM dd.MM.yyyy HH:mm:ss'\n",
    "\"Current date and time: {0:dddd, dd.MM.yyyy H:mm:ss zzz}\" -f $currentDateTime"
   ]
  },
  {
   "attachments": {},
   "cell_type": "markdown",
   "metadata": {},
   "source": [
    "### Next line is JavaScript-code\n",
    "Output the current Date/Time with JavaScript"
   ]
  },
  {
   "cell_type": "code",
   "execution_count": null,
   "metadata": {
    "dotnet_interactive": {
     "language": "javascript"
    },
    "polyglot_notebook": {
     "kernelName": "javascript"
    }
   },
   "outputs": [],
   "source": [
    "// JavaScript\n",
    "const currentDateTime = new Date(Date.now());\n",
    "console.log('Current date and time: ' + currentDateTime);"
   ]
  },
  {
   "attachments": {},
   "cell_type": "markdown",
   "metadata": {},
   "source": [
    "### Next line is C#-code\n",
    "Output the current Date/Time with C#"
   ]
  },
  {
   "cell_type": "code",
   "execution_count": null,
   "metadata": {
    "dotnet_interactive": {
     "language": "csharp"
    },
    "polyglot_notebook": {
     "kernelName": "csharp"
    }
   },
   "outputs": [],
   "source": [
    "// C#\n",
    "DateTime currentDateTime = DateTime.Now;\n",
    "Console.WriteLine(\"Current date and time: {0:dddd, dd.MM.yyyy H:mm:ss zzz}\", currentDateTime);"
   ]
  }
 ],
 "metadata": {
  "kernelspec": {
   "display_name": ".NET (PowerShell)",
   "language": "PowerShell",
   "name": ".net-pwsh"
  },
  "language_info": {
   "name": "polyglot-notebook"
  },
  "polyglot_notebook": {
   "kernelInfo": {
    "defaultKernelName": "pwsh",
    "items": [
     {
      "aliases": [],
      "languageName": "pwsh",
      "name": "pwsh"
     }
    ]
   }
  }
 },
 "nbformat": 4,
 "nbformat_minor": 2
}
