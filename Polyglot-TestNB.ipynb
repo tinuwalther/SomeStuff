{
 "cells": [
  {
   "attachments": {},
   "cell_type": "markdown",
   "metadata": {},
   "source": [
    "## My first Polyglot Notebook\n",
    "\n",
    "In a Polyglot Notebook, you can define documentation and code in one file and you can execute the code.\n",
    "\n",
    "See also [Polyglot Notebooks in VS Code](https://code.visualstudio.com/docs/languages/polyglot)"
   ]
  },
  {
   "attachments": {},
   "cell_type": "markdown",
   "metadata": {},
   "source": [
    "### Polyglot programming \n",
    "\n",
    "Polyglot programming is the practice of using multiple programming languages to leverage the strength of each language for different tasks."
   ]
  },
  {
   "attachments": {},
   "cell_type": "markdown",
   "metadata": {},
   "source": [
    "### Next line is Mermaid"
   ]
  },
  {
   "cell_type": "code",
   "execution_count": null,
   "metadata": {
    "dotnet_interactive": {
     "language": "mermaid"
    },
    "polyglot_notebook": {
     "kernelName": "mermaid"
    }
   },
   "outputs": [],
   "source": [
    "flowchart LR\n",
    "    Start --> Mermaid --> HTML --> JavaScript --> C#--> Stop"
   ]
  },
  {
   "attachments": {},
   "cell_type": "markdown",
   "metadata": {},
   "source": [
    "### Next line is PowerShell-code"
   ]
  },
  {
   "cell_type": "code",
   "execution_count": null,
   "metadata": {
    "dotnet_interactive": {
     "language": "pwsh"
    },
    "polyglot_notebook": {
     "kernelName": "pwsh"
    }
   },
   "outputs": [],
   "source": [
    "# PWSH\n",
    "Get-Date -f 'yyyy-MM-dd HH:mm:ss.fff'"
   ]
  },
  {
   "attachments": {},
   "cell_type": "markdown",
   "metadata": {},
   "source": [
    "### Next line is HTML-code"
   ]
  },
  {
   "cell_type": "code",
   "execution_count": null,
   "metadata": {
    "dotnet_interactive": {
     "language": "html"
    },
    "polyglot_notebook": {
     "kernelName": "html"
    }
   },
   "outputs": [],
   "source": [
    "<!DOCTYPE html>\n",
    "<html >\n",
    "    <head >\n",
    "    <meta charset=\"UTF-8\"  />\n",
    "    <meta name=\"author\" content=\"Martin Walther\"  />\n",
    "    </head>\n",
    "    <Body >\n",
    "        <h1>Polyglot Notebook in HTML</h1>\n",
    "        <p id=\"demo\"></p>\n",
    "        <script>\n",
    "            document.getElementById(\"demo\").innerHTML = 'This output is generated with html in a Polyglot Notebook';\n",
    "        </script>\n",
    "    </Body>\n",
    "</html>"
   ]
  },
  {
   "attachments": {},
   "cell_type": "markdown",
   "metadata": {},
   "source": [
    "### Next line is JavaScript\n",
    "\n",
    "The Date.now() static method returns the number of milliseconds elapsed since the epoch, which is defined as the midnight at the beginning of January 1, 1970, UTC."
   ]
  },
  {
   "cell_type": "code",
   "execution_count": null,
   "metadata": {
    "dotnet_interactive": {
     "language": "javascript"
    },
    "polyglot_notebook": {
     "kernelName": "javascript"
    }
   },
   "outputs": [],
   "source": [
    "// JavaScript\n",
    "const currentDateTime = new Date(Date.now());\n",
    "console.log('Current date and time: ' + currentDateTime);"
   ]
  },
  {
   "attachments": {},
   "cell_type": "markdown",
   "metadata": {},
   "source": [
    "### Next line is C#"
   ]
  },
  {
   "cell_type": "code",
   "execution_count": null,
   "metadata": {
    "dotnet_interactive": {
     "language": "csharp"
    },
    "polyglot_notebook": {
     "kernelName": "csharp"
    }
   },
   "outputs": [],
   "source": [
    "// C#\n",
    "DateTime currentDateTime = DateTime.Now;\n",
    "Console.WriteLine(\"Current date and time: \" + currentDateTime);"
   ]
  }
 ],
 "metadata": {
  "kernelspec": {
   "display_name": ".NET (PowerShell)",
   "language": "PowerShell",
   "name": ".net-pwsh"
  },
  "language_info": {
   "name": "polyglot-notebook"
  },
  "polyglot_notebook": {
   "kernelInfo": {
    "defaultKernelName": "pwsh",
    "items": [
     {
      "aliases": [],
      "languageName": "pwsh",
      "name": "pwsh"
     }
    ]
   }
  }
 },
 "nbformat": 4,
 "nbformat_minor": 2
}
